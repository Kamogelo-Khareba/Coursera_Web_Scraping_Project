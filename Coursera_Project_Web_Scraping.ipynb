{
 "cells": [
  {
   "cell_type": "code",
   "execution_count": null,
   "id": "5637e8a3-8535-447e-8ceb-6975d6370e5a",
   "metadata": {
    "tags": []
   },
   "outputs": [],
   "source": [
    "# Imports\n",
    "import requests\n",
    "import pandas as pd\n",
    "\n",
    "\n",
    "def data_wrangler(response):\n",
    "    # Converting the response to a dictionary\n",
    "    data_base = response.json()\n",
    "    # Converting the dictionary to a pandas Dataframe\n",
    "    df = pd.DataFrame(data_base['data'])\n",
    "    # Cleaning the company name\n",
    "    for i in range(len(df)):\n",
    "        df['company'][i] = df['company'][i]['name']\n",
    "    # Dropping columns I find not useful\n",
    "    df.drop(columns=['id','referenceId','postAt','postedTimestamp','posterId'])\n",
    "    \n",
    "    return df\n",
    "\n",
    "def excel_writer(df,your_name):\n",
    "    with pd.ExcelWriter(\"Data_Storage\"+\"-\"+str(your_name)+\".xlsx\") as writer:\n",
    "        df4.to_excel(writer,sheet_name =\"Data\",index = False)\n",
    "\n",
    "\n",
    "# Importing the data using an API \n",
    "\n",
    "# Using the get request without an API mostly results in ConnectionResetError WinErr[10054]\n",
    "\n",
    "# I chose the LinkedIn API as it is the most popular website/social network for job postings\n",
    "\n",
    "def linkedIn_jobs(position:str,location_Id:str,your_name:str):\n",
    "    # LinkedIn api (Rapidapi.com)\n",
    "    url = \"https://linkedin-data-api.p.rapidapi.com/search-jobs-v2\"\n",
    "    # Querystring limited to position and location, sorting and time can be added to drill down your search\n",
    "    querystring = {\"keywords\":position,\"locationId\":location_Id}\n",
    "\n",
    "    # API Keys I got from RapidAPI.com \n",
    "    headers = {\n",
    "        \"X-RapidAPI-Key\": \"0501448d09mshe93c5485606cd94p1f02eejsne5bd0eb0730a\",\n",
    "        \"X-RapidAPI-Host\": \"linkedin-data-api.p.rapidapi.com\"\n",
    "    }\n",
    "    \n",
    "    response = requests.get(url, headers=headers, params=querystring)\n",
    "    \n",
    "    value_1 = data_wrangler(response)\n",
    "    value_2 = excel_writer(value_1,your_name)\n",
    "    \n",
    "    return value_2\n",
    " \n",
    "linkedIn_jobs(\"Data Analyst\",\"104035573\",\"Kamogelo\")"
   ]
  }
 ],
 "metadata": {
  "kernelspec": {
   "display_name": "Python 3 (ipykernel)",
   "language": "python",
   "name": "python3"
  },
  "language_info": {
   "codemirror_mode": {
    "name": "ipython",
    "version": 3
   },
   "file_extension": ".py",
   "mimetype": "text/x-python",
   "name": "python",
   "nbconvert_exporter": "python",
   "pygments_lexer": "ipython3",
   "version": "3.11.5"
  }
 },
 "nbformat": 4,
 "nbformat_minor": 5
}
